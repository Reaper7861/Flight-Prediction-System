{
 "cells": [
  {
   "cell_type": "markdown",
   "metadata": {},
   "source": [
    "## Initial Setup and Libraries"
   ]
  },
  {
   "cell_type": "code",
   "execution_count": 166,
   "metadata": {},
   "outputs": [],
   "source": [
    "import pandas as pd\n",
    "import numpy as np\n",
    "import seaborn as sns\n",
    "import matplotlib.pyplot as plt\n",
    "import re"
   ]
  },
  {
   "cell_type": "markdown",
   "metadata": {},
   "source": [
    "## Preoprocessing and Data Cleaning"
   ]
  },
  {
   "cell_type": "code",
   "execution_count": 178,
   "metadata": {},
   "outputs": [],
   "source": [
    "flight_data = pd.read_csv(\"flight_data.zip\")"
   ]
  },
  {
   "cell_type": "code",
   "execution_count": 179,
   "metadata": {},
   "outputs": [
    {
     "data": {
      "text/plain": [
       "flightDate                          0\n",
       "startingAirport                     0\n",
       "destinationAirport                  0\n",
       "travelDuration                      0\n",
       "isBasicEconomy                      0\n",
       "isRefundable                        0\n",
       "isNonStop                           0\n",
       "baseFare                            0\n",
       "totalFare                           0\n",
       "seatsRemaining                      0\n",
       "totalTravelDistance             61860\n",
       "segmentsAirlineName                 0\n",
       "segmentsEquipmentDescription    18754\n",
       "segmentsDurationInSeconds           0\n",
       "segmentsDistance                 7724\n",
       "segmentsCabinCode                   0\n",
       "dtype: int64"
      ]
     },
     "execution_count": 179,
     "metadata": {},
     "output_type": "execute_result"
    }
   ],
   "source": [
    "flight_data.drop(columns=['legId', 'searchDate', 'fareBasisCode', 'elapsedDays',\n",
    "                          'segmentsDepartureTimeEpochSeconds', 'segmentsDepartureTimeRaw',\n",
    "                          'segmentsArrivalTimeEpochSeconds', 'segmentsArrivalTimeRaw',\n",
    "                          'segmentsArrivalAirportCode', 'segmentsDepartureAirportCode', \n",
    "                          'segmentsAirlineCode'], inplace=True, errors='ignore')\n",
    "\n",
    "flight_data.isnull().sum()"
   ]
  },
  {
   "cell_type": "code",
   "execution_count": 180,
   "metadata": {},
   "outputs": [
    {
     "name": "stderr",
     "output_type": "stream",
     "text": [
      "/var/folders/yz/rt_zj8sn321f5zz639x4bnn40000gn/T/ipykernel_4373/3121845318.py:2: FutureWarning: A value is trying to be set on a copy of a DataFrame or Series through chained assignment using an inplace method.\n",
      "The behavior will change in pandas 3.0. This inplace method will never work because the intermediate object on which we are setting values always behaves as a copy.\n",
      "\n",
      "For example, when doing 'df[col].method(value, inplace=True)', try using 'df.method({col: value}, inplace=True)' or df[col] = df[col].method(value) instead, to perform the operation inplace on the original object.\n",
      "\n",
      "\n",
      "  flight_data['segmentsDistance'].replace(['', 'None'], np.nan, inplace=True)\n",
      "/var/folders/yz/rt_zj8sn321f5zz639x4bnn40000gn/T/ipykernel_4373/3121845318.py:4: FutureWarning: A value is trying to be set on a copy of a DataFrame or Series through chained assignment using an inplace method.\n",
      "The behavior will change in pandas 3.0. This inplace method will never work because the intermediate object on which we are setting values always behaves as a copy.\n",
      "\n",
      "For example, when doing 'df[col].method(value, inplace=True)', try using 'df.method({col: value}, inplace=True)' or df[col] = df[col].method(value) instead, to perform the operation inplace on the original object.\n",
      "\n",
      "\n",
      "  flight_data['segmentsDistance'].fillna(flight_data['segmentsDistance'].median(), inplace=True)\n",
      "/var/folders/yz/rt_zj8sn321f5zz639x4bnn40000gn/T/ipykernel_4373/3121845318.py:11: FutureWarning: A value is trying to be set on a copy of a DataFrame or Series through chained assignment using an inplace method.\n",
      "The behavior will change in pandas 3.0. This inplace method will never work because the intermediate object on which we are setting values always behaves as a copy.\n",
      "\n",
      "For example, when doing 'df[col].method(value, inplace=True)', try using 'df.method({col: value}, inplace=True)' or df[col] = df[col].method(value) instead, to perform the operation inplace on the original object.\n",
      "\n",
      "\n",
      "  flight_data['totalTravelDistance'].fillna(flight_data['totalTravelDistance'].median(), inplace=True)\n"
     ]
    },
    {
     "data": {
      "text/plain": [
       "flightDate                      0\n",
       "startingAirport                 0\n",
       "destinationAirport              0\n",
       "travelDuration                  0\n",
       "isBasicEconomy                  0\n",
       "isRefundable                    0\n",
       "isNonStop                       0\n",
       "baseFare                        0\n",
       "totalFare                       0\n",
       "seatsRemaining                  0\n",
       "totalTravelDistance             0\n",
       "segmentsAirlineName             0\n",
       "segmentsEquipmentDescription    0\n",
       "segmentsDurationInSeconds       0\n",
       "segmentsDistance                0\n",
       "segmentsCabinCode               0\n",
       "dtype: int64"
      ]
     },
     "execution_count": 180,
     "metadata": {},
     "output_type": "execute_result"
    }
   ],
   "source": [
    "flight_data['segmentsDistance'] = flight_data['segmentsDistance'].str.split(r'\\|\\|').str[0]\n",
    "flight_data['segmentsDistance'].replace(['', 'None'], np.nan, inplace=True)\n",
    "flight_data['segmentsDistance'] = pd.to_numeric(flight_data['segmentsDistance'], errors='coerce')\n",
    "flight_data['segmentsDistance'].fillna(flight_data['segmentsDistance'].median(), inplace=True)\n",
    "\n",
    "flight_data['segmentsAirlineName'] = flight_data['segmentsAirlineName'].str.split(r'\\|\\|').str[0]\n",
    "\n",
    "flight_data = flight_data[flight_data['segmentsEquipmentDescription'].notnull()].reset_index(drop=True)\n",
    "\n",
    "flight_data['totalTravelDistance'] = pd.to_numeric(flight_data['totalTravelDistance'], errors='coerce')\n",
    "flight_data['totalTravelDistance'].fillna(flight_data['totalTravelDistance'].median(), inplace=True)\n",
    "\n",
    "\n",
    "flight_data.isnull().sum()"
   ]
  },
  {
   "cell_type": "code",
   "execution_count": 181,
   "metadata": {},
   "outputs": [],
   "source": [
    "flight_data = flight_data[flight_data['travelDuration'].notna()]\n",
    "flight_data = flight_data[flight_data['travelDuration'].str.startswith('PT')]\n",
    "\n",
    "flight_data = flight_data[flight_data['segmentsDurationInSeconds'].notna()]"
   ]
  },
  {
   "cell_type": "code",
   "execution_count": 182,
   "metadata": {},
   "outputs": [],
   "source": [
    "def conversion(duration):\n",
    "    try:\n",
    "        if pd.isna(duration): return None\n",
    "        match = re.match(r'PT(?:(\\d+)H)?(?:(\\d+)M)?', duration)\n",
    "        hours = int(match.group(1)) if match.group(1) else 0\n",
    "        minutes = int(match.group(2)) if match.group(2) else 0\n",
    "        return hours * 60 + minutes\n",
    "    except:\n",
    "        return None\n",
    "\n",
    "flight_data['travelDuration'] = flight_data['travelDuration'].apply(conversion)\n",
    "\n",
    "\n",
    "def summation(value):\n",
    "    try:\n",
    "        if pd.isna(value): return None\n",
    "        return sum(int(i) for i in value.split('||') if i.isdigit())\n",
    "    except:\n",
    "        return None\n",
    "\n",
    "flight_data['segmentsDurationInSeconds'] = flight_data['segmentsDurationInSeconds'].apply(summation)\n",
    "flight_data['segmentsDurationInSeconds'] = pd.to_numeric(flight_data['segmentsDurationInSeconds'], errors='coerce')\n",
    "\n"
   ]
  },
  {
   "cell_type": "code",
   "execution_count": 184,
   "metadata": {},
   "outputs": [],
   "source": [
    "flight_data = flight_data[~flight_data['segmentsEquipmentDescription'].str.fullmatch(r'\\|+', na=False)]\n",
    "\n",
    "flight_data['segmentsEquipmentDescription'] = (flight_data['segmentsEquipmentDescription']\n",
    "    .str.replace(r'^\\|+', '', regex=True)  \n",
    "    .str.replace(r'\\|+$', '', regex=True)  \n",
    "    .str.strip() \n",
    ")\n"
   ]
  },
  {
   "cell_type": "code",
   "execution_count": 185,
   "metadata": {},
   "outputs": [],
   "source": [
    "flight_data['segmentsCabinCode'] = (flight_data['segmentsCabinCode'].str.split(r'\\|\\|').str[0].str.strip())"
   ]
  },
  {
   "cell_type": "code",
   "execution_count": null,
   "metadata": {},
   "outputs": [],
   "source": [
    "flight_data.to_csv('flight_data_preprocessed.csv.zip', index=False, compression='zip')"
   ]
  },
  {
   "cell_type": "code",
   "execution_count": null,
   "metadata": {},
   "outputs": [],
   "source": [
    "flight_data_cleaned = pd.read_csv(\"flight_data_preprocessed.csv.zip\")"
   ]
  },
  {
   "cell_type": "markdown",
   "metadata": {},
   "source": [
    "## Exploratory Data Analysis"
   ]
  },
  {
   "cell_type": "code",
   "execution_count": null,
   "metadata": {},
   "outputs": [],
   "source": []
  },
  {
   "cell_type": "markdown",
   "metadata": {},
   "source": [
    "## Multiple Linear Regression"
   ]
  },
  {
   "cell_type": "code",
   "execution_count": null,
   "metadata": {},
   "outputs": [],
   "source": []
  },
  {
   "cell_type": "markdown",
   "metadata": {},
   "source": [
    "## Random Forest"
   ]
  },
  {
   "cell_type": "code",
   "execution_count": null,
   "metadata": {},
   "outputs": [],
   "source": []
  },
  {
   "cell_type": "markdown",
   "metadata": {},
   "source": [
    "## Gradient Boosting (XGBoosting)"
   ]
  },
  {
   "cell_type": "code",
   "execution_count": null,
   "metadata": {},
   "outputs": [],
   "source": []
  },
  {
   "cell_type": "markdown",
   "metadata": {},
   "source": [
    "## Web Application Implementation"
   ]
  },
  {
   "cell_type": "code",
   "execution_count": null,
   "metadata": {},
   "outputs": [],
   "source": []
  }
 ],
 "metadata": {
  "kernelspec": {
   "display_name": "Python 3",
   "language": "python",
   "name": "python3"
  },
  "language_info": {
   "codemirror_mode": {
    "name": "ipython",
    "version": 3
   },
   "file_extension": ".py",
   "mimetype": "text/x-python",
   "name": "python",
   "nbconvert_exporter": "python",
   "pygments_lexer": "ipython3",
   "version": "3.11.8"
  }
 },
 "nbformat": 4,
 "nbformat_minor": 2
}
